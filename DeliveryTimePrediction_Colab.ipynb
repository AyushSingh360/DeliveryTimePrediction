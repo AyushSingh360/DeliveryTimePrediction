{
 "cells": [
  {
   "cell_type": "code",
   "execution_count": null,
   "id": "b6bbe7ed",
   "metadata": {},
   "outputs": [],
   "source": [
    "\n",
    "import pandas as pd\n",
    "import numpy as np\n",
    "from sklearn.model_selection import train_test_split\n",
    "from sklearn.linear_model import LinearRegression\n",
    "from sklearn.preprocessing import StandardScaler\n",
    "from sklearn.metrics import mean_absolute_error\n",
    "import matplotlib.pyplot as plt\n",
    "import seaborn as sns\n"
   ]
  },
  {
   "cell_type": "code",
   "execution_count": null,
   "id": "c668152a",
   "metadata": {},
   "outputs": [],
   "source": [
    "\n",
    "from google.colab import files\n",
    "uploaded = files.upload()\n",
    "\n",
    "import io\n",
    "data = pd.read_csv(io.BytesIO(uploaded[list(uploaded.keys())[0]]))\n",
    "data.head()\n"
   ]
  },
  {
   "cell_type": "code",
   "execution_count": null,
   "id": "bedc6e40",
   "metadata": {},
   "outputs": [],
   "source": [
    "\n",
    "data.info()\n",
    "print(\"\\nMissing values:\\n\", data.isnull().sum())\n"
   ]
  },
  {
   "cell_type": "code",
   "execution_count": null,
   "id": "d54f5566",
   "metadata": {},
   "outputs": [],
   "source": [
    "\n",
    "data.dropna(inplace=True)\n"
   ]
  },
  {
   "cell_type": "code",
   "execution_count": null,
   "id": "7d89e204",
   "metadata": {},
   "outputs": [],
   "source": [
    "\n",
    "data_encoded = pd.get_dummies(data.drop(columns=['Order_ID']), drop_first=True)\n",
    "data_encoded.head()\n"
   ]
  },
  {
   "cell_type": "code",
   "execution_count": null,
   "id": "401650b1",
   "metadata": {},
   "outputs": [],
   "source": [
    "\n",
    "X = data_encoded.drop(columns=['Delivery_Time_min'])\n",
    "y = data_encoded['Delivery_Time_min']\n"
   ]
  },
  {
   "cell_type": "code",
   "execution_count": null,
   "id": "d0de8430",
   "metadata": {},
   "outputs": [],
   "source": [
    "\n",
    "scaler = StandardScaler()\n",
    "X_scaled = scaler.fit_transform(X)\n"
   ]
  },
  {
   "cell_type": "code",
   "execution_count": null,
   "id": "6fe424ed",
   "metadata": {},
   "outputs": [],
   "source": [
    "\n",
    "X_train, X_test, y_train, y_test = train_test_split(X_scaled, y, test_size=0.2, random_state=42)\n"
   ]
  },
  {
   "cell_type": "code",
   "execution_count": null,
   "id": "1e3bbfd3",
   "metadata": {},
   "outputs": [],
   "source": [
    "\n",
    "model = LinearRegression()\n",
    "model.fit(X_train, y_train)\n"
   ]
  },
  {
   "cell_type": "code",
   "execution_count": null,
   "id": "85684193",
   "metadata": {},
   "outputs": [],
   "source": [
    "\n",
    "y_pred = model.predict(X_test)\n",
    "mae = mean_absolute_error(y_test, y_pred)\n",
    "print(\"Mean Absolute Error:\", mae)\n"
   ]
  },
  {
   "cell_type": "code",
   "execution_count": null,
   "id": "18dc3c4f",
   "metadata": {},
   "outputs": [],
   "source": [
    "\n",
    "# Example: Use the first row of test data\n",
    "example = X_test[0].reshape(1, -1)\n",
    "predicted = model.predict(example)\n",
    "print(\"Predicted delivery time (min):\", predicted[0])\n"
   ]
  }
 ],
 "metadata": {
  "colab": {}
 },
 "nbformat": 4,
 "nbformat_minor": 5
}
